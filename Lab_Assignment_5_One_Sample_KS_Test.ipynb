{
  "cells": [
    {
      "cell_type": "markdown",
      "metadata": {
        "id": "view-in-github",
        "colab_type": "text"
      },
      "source": [
        "<a href=\"https://colab.research.google.com/github/SudiptoChowdhury25/Simulation-and-Modeling-Lab/blob/main/Lab_Assignment_5_One_Sample_KS_Test.ipynb\" target=\"_parent\"><img src=\"https://colab.research.google.com/assets/colab-badge.svg\" alt=\"Open In Colab\"/></a>"
      ]
    },
    {
      "cell_type": "markdown",
      "id": "af4a1eeb",
      "metadata": {
        "id": "af4a1eeb"
      },
      "source": [
        "Name: **Sudipta Roy Chowdhury**\n",
        "\n",
        "ID: **2215151025**\n",
        "\n",
        "Section: **7A1**\n",
        "\n",
        "Course: **Simulation & Modeling LAB**\n",
        "\n",
        "**ASSIGNMENT:**\n",
        "\n",
        "Apply the One-Sample Kolmogorov-Smirnov (K-S) Test on a dataset of daily temperatures to\n",
        "determine if the sample data comes from a specified normal distribution.\n",
        "\n",
        "**Dataset:**\n",
        "\n",
        "You will be using the following dataset of daily temperatures recorded in degrees Celsius over a\n",
        "10-day period.\n",
        "\n",
        "\n",
        "| Day | Temperature (°C) |\n",
        "|-----|------------------|\n",
        "| 1   | 15               |\n",
        "| 2   | 17               |\n",
        "| 3   | 16               |\n",
        "| 4   | 14               |\n",
        "| 5   | 18               |\n",
        "| 6   | 20               |\n",
        "| 7   | 19               |\n",
        "| 8   | 15               |\n",
        "| 9   | 21               |\n",
        "| 10  | 22               |\n",
        "\n",
        "\n",
        "## 🔧 Instructions\n",
        "\n",
        "- **Load the Dataset**: Use the provided dataset in your Colab.\n",
        "- **Extract Temperature Scores**: Extract the temperatures from the dataset for analysis.\n",
        "- **Center and Scale the Data**: Define the mean and standard deviation for a normal distribution and center and scale the temperature data accordingly.\n",
        "- **Perform the K-S Test**: Use MATLAB’s `kstest` function to perform a one-sample K-S test on the scaled data.\n",
        "- **Output the Results**: Display the test decision (h), p-value, KS statistic.\n",
        "- **Plot the Empirical CDF**: Generate a plot comparing the empirical CDF of the scaled temperature data with the standard normal CDF.\n",
        "- **Write a Conclusion**: Based on the results, write a short conclusion about whether the null hypothesis (that the temperatures come from a normal distribution) can be rejected.\n",
        "\n",
        "\n"
      ]
    },
    {
      "cell_type": "code",
      "execution_count": null,
      "id": "ff87ef03",
      "metadata": {
        "id": "ff87ef03"
      },
      "outputs": [],
      "source": [
        "import numpy as np\n",
        "from scipy.stats import kstest, norm\n",
        "import matplotlib.pyplot as plt\n"
      ]
    },
    {
      "cell_type": "markdown",
      "id": "97bd03ca",
      "metadata": {
        "id": "97bd03ca"
      },
      "source": [
        "## Step 1: Load the Dataset"
      ]
    },
    {
      "cell_type": "code",
      "execution_count": null,
      "id": "7a020611",
      "metadata": {
        "colab": {
          "base_uri": "https://localhost:8080/"
        },
        "id": "7a020611",
        "outputId": "7e372957-3011-4dc1-bc3c-3786398e379d"
      },
      "outputs": [
        {
          "output_type": "stream",
          "name": "stdout",
          "text": [
            "Temperature Data: [15 17 16 14 18 20 19 15 21 22]\n"
          ]
        }
      ],
      "source": [
        "# Daily temperatures for 10 days\n",
        "temperature_data = np.array([15, 17, 16, 14, 18, 20, 19, 15, 21, 22])\n",
        "print(\"Temperature Data:\", temperature_data)\n"
      ]
    },
    {
      "cell_type": "markdown",
      "source": [
        "## Step 2: Extract Temperature Scores\n",
        "Already done above — the temperatures are in temperature_data."
      ],
      "metadata": {
        "id": "2DZafWHUI0J9"
      },
      "id": "2DZafWHUI0J9"
    },
    {
      "cell_type": "markdown",
      "id": "666887a2",
      "metadata": {
        "id": "666887a2"
      },
      "source": [
        "## Step 3: Center and Scale the Data"
      ]
    },
    {
      "cell_type": "code",
      "execution_count": null,
      "id": "b210add7",
      "metadata": {
        "colab": {
          "base_uri": "https://localhost:8080/"
        },
        "id": "b210add7",
        "outputId": "ebef9c14-0825-4d63-858e-31a14db1ad52"
      },
      "outputs": [
        {
          "output_type": "stream",
          "name": "stdout",
          "text": [
            "Scaled Data: [-1.03464225 -0.26824058 -0.65144142 -1.41784308  0.11496025  0.88136192\n",
            "  0.49816108 -1.03464225  1.26456275  1.64776358]\n"
          ]
        }
      ],
      "source": [
        "# Calculate mean and standard deviation\n",
        "mean_temp = np.mean(temperature_data)\n",
        "std_temp = np.std(temperature_data)\n",
        "\n",
        "# Standardize the data\n",
        "scaled_data = (temperature_data - mean_temp) / std_temp\n",
        "print(\"Scaled Data:\", scaled_data)\n"
      ]
    },
    {
      "cell_type": "markdown",
      "id": "bbdab6bb",
      "metadata": {
        "id": "bbdab6bb"
      },
      "source": [
        "## Step 4: Perform the K-S Test"
      ]
    },
    {
      "cell_type": "code",
      "execution_count": null,
      "id": "03222a78",
      "metadata": {
        "id": "03222a78"
      },
      "outputs": [],
      "source": [
        "# Perform the one-sample Kolmogorov-Smirnov test against the standard normal distribution\n",
        "ks_result = kstest(scaled_data, 'norm')\n",
        "\n",
        "\n"
      ]
    },
    {
      "cell_type": "markdown",
      "source": [
        "## Step 5: Output the Results"
      ],
      "metadata": {
        "id": "QdvKeLADJnYs"
      },
      "id": "QdvKeLADJnYs"
    },
    {
      "cell_type": "code",
      "source": [
        "# Display test results\n",
        "print(f\"Test decision (h): {int(ks_result.pvalue < 0.05)}\")\n",
        "print(f\"p-value: {ks_result.pvalue:.4f}\")\n",
        "print(f\"KS statistic: {ks_result.statistic:.4f}\")"
      ],
      "metadata": {
        "colab": {
          "base_uri": "https://localhost:8080/"
        },
        "id": "xxECDBp0Jlts",
        "outputId": "35d8c350-d544-4fd7-f53a-990926972ec6"
      },
      "id": "xxECDBp0Jlts",
      "execution_count": null,
      "outputs": [
        {
          "output_type": "stream",
          "name": "stdout",
          "text": [
            "Test decision (h): 0\n",
            "p-value: 0.9550\n",
            "KS statistic: 0.1496\n"
          ]
        }
      ]
    },
    {
      "cell_type": "markdown",
      "id": "1572ebce",
      "metadata": {
        "id": "1572ebce"
      },
      "source": [
        "## Step 6: Plot the Empirical CDF"
      ]
    },
    {
      "cell_type": "code",
      "execution_count": null,
      "id": "aa9e957d",
      "metadata": {
        "colab": {
          "base_uri": "https://localhost:8080/",
          "height": 487
        },
        "id": "aa9e957d",
        "outputId": "cb288176-81fb-4fe7-b083-c2e466d2e6e6"
      },
      "outputs": [
        {
          "output_type": "display_data",
          "data": {
            "text/plain": [
              "<Figure size 800x500 with 1 Axes>"
            ],
            "image/png": "[encoded data removed]"
          },
          "metadata": {}
        }
      ],
      "source": [
        "# Compute empirical CDF\n",
        "sorted_data = np.sort(scaled_data)\n",
        "ecdf_y = np.arange(1, len(scaled_data)+1) / len(scaled_data)\n",
        "\n",
        "# Compute standard normal CDF\n",
        "normal_cdf = norm.cdf(sorted_data)\n",
        "\n",
        "# Plot\n",
        "plt.figure(figsize=(8, 5))\n",
        "plt.plot(sorted_data, ecdf_y, label='Empirical CDF', color='blue', linewidth=2)\n",
        "plt.plot(sorted_data, normal_cdf, label='Standard Normal CDF', color='red', linestyle='--', linewidth=2)\n",
        "plt.title(\"K-S Test: Empirical vs Normal CDF (Temperature Data)\")\n",
        "plt.xlabel(\"Scaled Temperature\")\n",
        "plt.ylabel(\"Cumulative Probability\")\n",
        "plt.legend(loc='lower right')\n",
        "plt.grid(True)\n",
        "plt.show()\n"
      ]
    },
    {
      "cell_type": "markdown",
      "id": "a3d978ec",
      "metadata": {
        "id": "a3d978ec"
      },
      "source": [
        "## Step 7: Conclusion"
      ]
    },
    {
      "cell_type": "markdown",
      "id": "50ec867c",
      "metadata": {
        "id": "50ec867c"
      },
      "source": [
        "### Based on the p-value:\n",
        "- If the p-value is greater than 0.05, we **fail to reject** the null hypothesis.\n",
        "- This means there is not enough evidence to say the temperatures do **not** follow a normal distribution.\n",
        "\n",
        "### Interpretation:\n",
        "- Since the p-value is likely greater than 0.05, the temperature data can be assumed to follow a **normal distribution**.\n"
      ]
    }
  ],
  "metadata": {
    "colab": {
      "provenance": [],
      "include_colab_link": true
    },
    "language_info": {
      "name": "python"
    },
    "kernelspec": {
      "name": "python3",
      "display_name": "Python 3"
    }
  },
  "nbformat": 4,
  "nbformat_minor": 5
}