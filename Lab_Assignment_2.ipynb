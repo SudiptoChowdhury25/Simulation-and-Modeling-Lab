{
  "nbformat": 4,
  "nbformat_minor": 0,
  "metadata": {
    "colab": {
      "provenance": [],
      "authorship_tag": "ABX9TyMjrxL4ImUJN0h1iCUn3BT1",
      "include_colab_link": true
    },
    "kernelspec": {
      "name": "python3",
      "display_name": "Python 3"
    },
    "language_info": {
      "name": "python"
    }
  },
  "cells": [
    {
      "cell_type": "markdown",
      "metadata": {
        "id": "view-in-github",
        "colab_type": "text"
      },
      "source": [
        "<a href=\"https://colab.research.google.com/github/SudiptoChowdhury25/Simulation-and-Modeling-Lab/blob/main/Lab_Assignment_2.ipynb\" target=\"_parent\"><img src=\"https://colab.research.google.com/assets/colab-badge.svg\" alt=\"Open In Colab\"/></a>"
      ]
    },
    {
      "cell_type": "markdown",
      "source": [
        "Use numpy to create a 3×3 matrix of random integers between 1 and 50.  \n",
        "   Run the code twice\n",
        "\n",
        "1. **With a fixed seed (`np.random.seed(10)`) to ensure reproducibility. **\n",
        "2. **Without setting a seed, allowing random values to change each time. **\n",
        "3. ** Observe and explain the differences in outputs.  (in a different cell\n",
        "as text)**"
      ],
      "metadata": {
        "id": "NXPZ_Ml5YiI_"
      }
    },
    {
      "cell_type": "code",
      "execution_count": 8,
      "metadata": {
        "colab": {
          "base_uri": "https://localhost:8080/"
        },
        "id": "b6ZtCcT1UF9j",
        "outputId": "a922b30d-e75a-439f-f47c-b600d80a84dd"
      },
      "outputs": [
        {
          "output_type": "stream",
          "name": "stdout",
          "text": [
            "Matrix with fixed seed:\n",
            " [[10 37 16]\n",
            " [ 1 50 29]\n",
            " [26 30 49]]\n"
          ]
        }
      ],
      "source": [
        "import numpy as np\n",
        "\n",
        "# With fixed seed\n",
        "np.random.seed(10)\n",
        "fixed_seed_matrix = np.random.randint(1, 51, (3, 3))\n",
        "print(\"Matrix with fixed seed:\\n\",fixed_seed_matrix)"
      ]
    },
    {
      "cell_type": "code",
      "source": [
        "# Without fixed seed\n",
        "random_matrix = np.random.randint(1, 51, (3, 3))\n",
        "print(\"\\nMatrix without fixed seed:\\n\",random_matrix)"
      ],
      "metadata": {
        "colab": {
          "base_uri": "https://localhost:8080/"
        },
        "id": "vScziuh1WNyh",
        "outputId": "35ff21dd-68bb-4544-d2a3-6cf995ce71e8"
      },
      "execution_count": 13,
      "outputs": [
        {
          "output_type": "stream",
          "name": "stdout",
          "text": [
            "\n",
            "Matrix without fixed seed:\n",
            " [[42  7  8]\n",
            " [40 15 43]\n",
            " [36  9 27]]\n"
          ]
        }
      ]
    },
    {
      "cell_type": "markdown",
      "source": [
        "**Explanation of Differences:**\n",
        "\n",
        "**With Fixed Seed (np.random.seed(10))**\n",
        "\n",
        "The matrix generated remains the same every time the code is executed.\n",
        "This is useful for reproducibility, debugging, and testing.\n",
        "\n",
        "**Without Fixed Seed**\n",
        "\n",
        "The matrix changes with each execution because no seed is set.\n",
        "This mimics real randomness and is useful when different outputs are required."
      ],
      "metadata": {
        "id": "9ibe_JfFZZ6V"
      }
    }
  ]
}